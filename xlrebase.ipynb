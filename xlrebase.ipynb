{
 "cells": [
  {
   "cell_type": "code",
   "execution_count": 37,
   "metadata": {},
   "outputs": [],
   "source": [
    "import openpyxl as xl\n",
    "\n",
    "wto = xl.load_workbook(\"to.xlsx\")\n",
    "wfrom = xl.load_workbook(\"from.xlsx\")\n",
    "\n",
    "wsto = wto['Лист1']\n",
    "wsfrom = wfrom['Лист1']\n",
    "\n",
    "for row in wsfrom.iter_rows(min_row=2):\n",
    "    for cell_from in row:\n",
    "        if cell_from.column_letter == 'D': # фамилия\n",
    "            wsto.cell(row=cell_from.row + 2, column=1, value=cell_from.value)\n",
    "        if cell_from.column_letter == 'E': # имя\n",
    "            wsto.cell(row=cell_from.row + 2, column=2, value=cell_from.value)\n",
    "        if cell_from.column_letter == 'F': # отчество\n",
    "            wsto.cell(row=cell_from.row + 2, column=3, value=cell_from.value)\n",
    "        if cell_from.column_letter == 'X': # дата рождения\n",
    "            wsto.cell(row=cell_from.row + 2, column=4, value=cell_from.value)\n",
    "        if cell_from.column_letter == 'V': # страна\n",
    "            wsto.cell(row=cell_from.row + 2, column=6, value=cell_from.value)\n",
    "        if cell_from.column_letter == 'W': # город\n",
    "            wsto.cell(row=cell_from.row + 2, column=7, value=cell_from.value)\n",
    "        if cell_from.column_letter == 'Q': # скайп\n",
    "            wsto.cell(row=cell_from.row + 2, column=17, value=cell_from.value)\n",
    "        if cell_from.column_letter == 'Y': # linkedin\n",
    "            wsto.cell(row=cell_from.row + 2, column=18, value=cell_from.value)\n",
    "        if cell_from.column_letter == 'Z': # facebook\n",
    "            wsto.cell(row=cell_from.row + 2, column=19, value=cell_from.value)\n",
    "        if cell_from.column_letter == 'AA': # vk\n",
    "            wsto.cell(row=cell_from.row + 2, column=20, value=cell_from.value)\n",
    "        if cell_from.column_letter == 'AB': # odnoklassniki\n",
    "            wsto.cell(row=cell_from.row + 2, column=21, value=cell_from.value)\n",
    "        if cell_from.column_letter == 'AC': # hyperlink\n",
    "            wsto.cell(row=cell_from.row + 2, column=22, value=cell_from.value)\n",
    "        if cell_from.column_letter == 'R': # work\n",
    "            wsto.cell(row=cell_from.row + 2, column=23, value=cell_from.value)\n",
    "        if cell_from.column_letter == 'T': # company sphere\n",
    "            wsto.cell(row=cell_from.row + 2, column=25, value=cell_from.value)\n",
    "        if cell_from.column_letter == 'S': # alumnus sphere\n",
    "            wsto.cell(row=cell_from.row + 2, column=26, value=cell_from.value)\n",
    "        if cell_from.column_letter == 'U': # industry\n",
    "            wsto.cell(row=cell_from.row + 2, column=27, value=cell_from.value)\n",
    "        \n",
    "\n",
    "wto.save(\"result.xlsx\")"
   ]
  }
 ],
 "metadata": {
  "kernelspec": {
   "display_name": "Python 3",
   "language": "python",
   "name": "python3"
  },
  "language_info": {
   "codemirror_mode": {
    "name": "ipython",
    "version": 3
   },
   "file_extension": ".py",
   "mimetype": "text/x-python",
   "name": "python",
   "nbconvert_exporter": "python",
   "pygments_lexer": "ipython3",
   "version": "3.7.5-final"
  }
 },
 "nbformat": 4,
 "nbformat_minor": 2
}