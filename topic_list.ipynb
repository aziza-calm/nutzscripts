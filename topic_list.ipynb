{
 "cells": [
  {
   "cell_type": "code",
   "execution_count": 24,
   "metadata": {},
   "outputs": [
    {
     "name": "stdout",
     "output_type": "stream",
     "text": [
      "['kafka-topics.sh', '--zookeeper', 'localhost:2181', '--list', '>', '/home/azizacalm/topics.txt']\n"
     ]
    }
   ],
   "source": [
    "import subprocess\n",
    "import time\n",
    "\n",
    "redirect_file = '/home/azizacalm/topics.txt'\n",
    "cmd_topic_list = ['kafka-topics.sh', '--zookeeper', 'localhost:2181', '--list',\n",
    "                  '>', redirect_file]\n",
    "\n",
    "# this part doesn't work, doesn't create topics.txt file :(\n",
    "# but shows no errors\n",
    "p = subprocess.Popen(cmd_topic_list, cwd='/home/azizacalm/')\n",
    "print(cmd_topic_list)\n",
    "while p.poll() is None:\n",
    "    time.sleep(0.01)"
   ]
  },
  {
   "cell_type": "code",
   "execution_count": 23,
   "metadata": {},
   "outputs": [
    {
     "name": "stdout",
     "output_type": "stream",
     "text": [
      "#####   __consumer_offsets\n",
      "   ######\n",
      "#####   favourite-colour-KTABLE-AGGREGATE-STATE-STORE-0000000008-changelog\n",
      "   ######\n",
      "#####   favourite-colour-KTABLE-AGGREGATE-STATE-STORE-0000000008-repartition\n",
      "   ######\n",
      "#####   favourite-colour-KTABLE-AGGREGATE-STATE-STORE-0000000009-changelog\n",
      "   ######\n",
      "#####   favourite-colour-KTABLE-AGGREGATE-STATE-STORE-0000000009-repartition\n",
      "   ######\n",
      "#####   favourite-colour-KTABLE-AGGREGATE-STATE-STORE-0000000010-changelog\n",
      "   ######\n",
      "#####   favourite-colour-KTABLE-AGGREGATE-STATE-STORE-0000000010-repartition\n",
      "   ######\n",
      "#####   favourite-colour-java-CountsByColours-changelog\n",
      "   ######\n",
      "#####   favourite-colour-java-CountsByColours-repartition\n",
      "   ######\n",
      "#####   favourite-colour-temp-topic-STATE-STORE-0000000004-changelog\n",
      "   ######\n",
      "#####   favourite-colour-temp-topic-STATE-STORE-0000000005-changelog\n",
      "   ######\n",
      "#####   favourite-colour-temp-topic-STATE-STORE-0000000006-changelog\n",
      "   ######\n",
      "#####   word-count-input\n",
      "   ######\n",
      "#####   word-count-output\n",
      "   ######\n",
      "#####   word_count-KSTREAM-AGGREGATE-STATE-STORE-0000000004-changelog\n",
      "   ######\n",
      "#####   word_count-KSTREAM-AGGREGATE-STATE-STORE-0000000004-repartition\n",
      "   ######\n"
     ]
    }
   ],
   "source": [
    "import os\n",
    "import subprocess\n",
    "\n",
    "with open('/home/azizacalm/topic_list.txt') as topic_list:\n",
    "    for topic_name in topic_list:\n",
    "        print(\"#####  \", topic_name, \"  ######\")\n",
    "        cmd_topic_del = ['kafka-topics.sh', '--zookeeper', 'localhost:2181', '--topic',\n",
    "                     topic_name, '--delete']\n",
    "        # this thing just marks for deletion\n",
    "        subprocess.Popen(cmd_topic_del)"
   ]
  }
 ],
 "metadata": {
  "kernelspec": {
   "display_name": "Python 3",
   "language": "python",
   "name": "python3"
  },
  "language_info": {
   "codemirror_mode": {
    "name": "ipython",
    "version": 3
   },
   "file_extension": ".py",
   "mimetype": "text/x-python",
   "name": "python",
   "nbconvert_exporter": "python",
   "pygments_lexer": "ipython3",
   "version": "3.7.5"
  }
 },
 "nbformat": 4,
 "nbformat_minor": 2
}
