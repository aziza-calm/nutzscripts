{
 "cells": [
  {
   "cell_type": "code",
   "execution_count": 4,
   "metadata": {},
   "outputs": [
    {
     "name": "stderr",
     "output_type": "stream",
     "text": [
      "--- request header ---\n",
      "GET /stream?key=37f37a8b13d3cea9f8fff1179d987bfe1c0036f6  HTTP/1.1\n",
      "Upgrade: websocket\n",
      "Host: streaming.vk.com\n",
      "Origin: http://streaming.vk.com\n",
      "Sec-WebSocket-Key: xNw105tzjKlDXtO9VpEz7g==\n",
      "Sec-WebSocket-Version: 13\n",
      "Connection: upgrade\n",
      "\n",
      "\n",
      "-----------------------\n",
      "--- response header ---\n",
      "HTTP/1.1 101 Switching Protocols\n",
      "Server: nginx/1.12.1\n",
      "Date: Wed, 12 Feb 2020 14:47:16 GMT\n",
      "Connection: upgrade\n",
      "Upgrade: websocket\n",
      "Sec-WebSocket-Accept: HAuLxKr75v7t3aGwrPYUNlzF7ug=\n",
      "-----------------------\n"
     ]
    },
    {
     "name": "stdout",
     "output_type": "stream",
     "text": [
      ">>>> open thead\n"
     ]
    },
    {
     "name": "stderr",
     "output_type": "stream",
     "text": [
      "send: b'\\x8a\\x80p\\xbb\\xf8\\x0b'\n",
      "send: b'\\x8a\\x80\\xd7\\xe0\\x0e\\xad'\n",
      "send: b'\\x8a\\x80qd+\\xd7'\n",
      "send: b'\\x8a\\x80\\xcf\\xc0R\\xc0'\n",
      "send: b'\\x8a\\x80dM3\\xf1'\n",
      "send: b'\\x8a\\x80\\x81,\\x13\\xd5'\n",
      "send: b'\\x8a\\x80\\xf5\\xe1\\xb1~'\n",
      "send: b'\\x8a\\x80\\xda\\x84a\\xf4'\n",
      "send: b'\\x8a\\x80Dn\\x91\\x8d'\n",
      "send: b'\\x8a\\x80\\xd5\"\\xfc\\x1e'\n",
      "send: b'\\x8a\\x80\\xb2o\\xba-'\n",
      "send: b'\\x8a\\x80:\\xa5gB'\n",
      "send: b'\\x8a\\x80\\xd2t\\xfa['\n",
      "send: b'\\x8a\\x80\\xacz\\xdd\\x9a'\n",
      "send: b'\\x8a\\x80\\xf6\\xac\\xed\\xcd'\n",
      "send: b'\\x8a\\x80\\xb9L\\x19\\xaa'\n",
      "send: b'\\x88\\x82\\xddO\\xbf\\xf8\\xde\\xa7'\n"
     ]
    },
    {
     "name": "stdout",
     "output_type": "stream",
     "text": [
      ">>>> error thead: \n",
      ">>>> close thead\n"
     ]
    }
   ],
   "source": [
    "import websocket\n",
    "import requests\n",
    "\n",
    "my_servise_token = \"\"\n",
    "\n",
    "def get_streaming_server_key(token):\n",
    "    request_url = \"https://api.vk.com/method/streaming.getServerUrl?access_token={}&v=5.64\".format(token)\n",
    "    r = requests.get(request_url)\n",
    "    data = r.json()\n",
    "    return {\"server\":data[\"response\"][\"endpoint\"],\"key\":data[\"response\"][\"key\"]}\n",
    "\n",
    "def listen_stream():\n",
    "    websocket.enableTrace(True)\n",
    "    ws = websocket.WebSocketApp(\"wss://{}/stream?key={} \".format(stream[\"server\"], stream[\"key\"]),\n",
    "                                on_message=on_message,\n",
    "                                on_error=on_error,\n",
    "                                on_close=on_close)\n",
    "    ws.on_open = on_open\n",
    "    ws.run_forever()\n",
    "\n",
    "def on_message(ws, message):\n",
    "    print(\">>>> receive message:\", message)\n",
    "\n",
    "def on_error(ws, error):\n",
    "    print(\">>>> error thead:\",error)\n",
    "\n",
    "def on_close(ws):\n",
    "    print(\">>>> close thead\")\n",
    "\n",
    "def on_open(ws):\n",
    "    print(\">>>> open thead\")\n",
    "\n",
    "\n",
    "stream = get_streaming_server_key(my_servise_token)\n",
    "listen_stream()"
   ]
  },
  {
   "cell_type": "code",
   "execution_count": 2,
   "metadata": {},
   "outputs": [
    {
     "name": "stdout",
     "output_type": "stream",
     "text": [
      "Collecting websocket-client\n",
      "  Using cached https://files.pythonhosted.org/packages/4c/5f/f61b420143ed1c8dc69f9eaec5ff1ac36109d52c80de49d66e0c36c3dfdf/websocket_client-0.57.0-py2.py3-none-any.whl\n",
      "Requirement already satisfied: six in /usr/lib/python3/dist-packages (from websocket-client) (1.12.0)\n",
      "Installing collected packages: websocket-client\n",
      "Successfully installed websocket-client-0.57.0\n"
     ]
    }
   ],
   "source": [
    "import sys\n",
    "!{sys.executable} -m pip install websocket-client"
   ]
  },
  {
   "cell_type": "code",
   "execution_count": 7,
   "metadata": {},
   "outputs": [
    {
     "name": "stderr",
     "output_type": "stream",
     "text": [
      "--- request header ---\n",
      "GET /stream?key=2977fc1d81f6b4510eb3e895c887129a296fcf1b  HTTP/1.1\n",
      "Upgrade: websocket\n",
      "Host: streaming.vk.com\n",
      "Origin: http://streaming.vk.com\n",
      "Sec-WebSocket-Key: 6jCUHK3XlZlSSiMDWFb0qA==\n",
      "Sec-WebSocket-Version: 13\n",
      "Connection: upgrade\n",
      "\n",
      "\n",
      "-----------------------\n",
      "--- response header ---\n",
      "HTTP/1.1 101 Switching Protocols\n",
      "Server: nginx/1.12.1\n",
      "Date: Wed, 12 Feb 2020 14:54:56 GMT\n",
      "Connection: upgrade\n",
      "Upgrade: websocket\n",
      "Sec-WebSocket-Accept: iQSfpHp61Mees36XZzthyN0aRkI=\n",
      "-----------------------\n"
     ]
    },
    {
     "name": "stdout",
     "output_type": "stream",
     "text": [
      ">>>> open thead\n"
     ]
    },
    {
     "name": "stderr",
     "output_type": "stream",
     "text": [
      "send: b'\\x8a\\x80\\xc8\\xc4\\xa0t'\n",
      "send: b'\\x8a\\x80H\\x97\\x14\\xf6'\n",
      "send: b'\\x8a\\x80i\\xf4\\xc6\\x05'\n",
      "send: b'\\x8a\\x80\\x98$\\xbci'\n",
      "send: b'\\x8a\\x80+I\\xf7!'\n"
     ]
    },
    {
     "name": "stdout",
     "output_type": "stream",
     "text": [
      ">>>> receive message: {\"code\":100,\"event\":{\"action\":\"new\",\"author\":{\"author_url\":\"https://vk.com/id321929276\",\"id\":321929276,\"platform\":4},\"creation_time\":1581519332,\"event_id\":{\"post_owner_id\":-159450742,\"post_id\":918064,\"comment_id\":918129},\"event_type\":\"comment\",\"event_url\":\"https://vk.com/wall-159450742_918064?reply=918129\",\"tags\":[\"tag_12234\"],\"text\":\"На моего кота похож\"}}\n"
     ]
    },
    {
     "name": "stderr",
     "output_type": "stream",
     "text": [
      "send: b'\\x8a\\x80Sh\\xf7\\x83'\n",
      "send: b'\\x8a\\x800)\\x95='\n",
      "send: b'\\x8a\\x80\\xb6\\x17\\xc3\\x04'\n",
      "send: b'\\x8a\\x80\\xa39\\x16\\x0c'\n",
      "send: b'\\x8a\\x80\\xc56\\xe2\\xb7'\n",
      "send: b'\\x8a\\x80\\x0b\\xa4\\xb2\\xa9'\n",
      "send: b'\\x88\\x82\\xe1+&\\x17\\xe2\\xc3'\n"
     ]
    },
    {
     "name": "stdout",
     "output_type": "stream",
     "text": [
      ">>>> error thead: \n",
      ">>>> close thead\n"
     ]
    }
   ],
   "source": [
    "import random\n",
    "import json\n",
    "\n",
    "def set_my_rules(value):\n",
    "    rule_params = {\"rule\":{\"value\":value,\"tag\":'tag_'+str(random.randint(11111, 99999))}}\n",
    "    headers = {'content-type': 'application/json'}\n",
    "    r = requests.post(\"https://{}/rules?key={}\".format(stream[\"server\"], stream[\"key\"]), data=json.dumps(rule_params), headers=headers)\n",
    "    data = r.json()\n",
    "\n",
    "    return data['code'] == 200\n",
    "\n",
    "def get_my_rules():\n",
    "    r = requests.get(\"https://{}/rules?key={}\".format(stream[\"server\"], stream[\"key\"]))\n",
    "    data = r.json()\n",
    "    if data['code'] != 200:\n",
    "        return False\n",
    "\n",
    "    return data['rules']\n",
    "\n",
    "def del_my_rules(tag):\n",
    "    headers = {'content-type': 'application/json'}\n",
    "    rule_params = {\"tag\":tag}\n",
    "    r = requests.delete(\"https://{}/rules?key={}\".format(stream[\"server\"], stream[\"key\"]), data=json.dumps(rule_params), headers=headers)\n",
    "    data = r.json()\n",
    "\n",
    "    return data['code'] == 200\n",
    "\n",
    "stream = get_streaming_server_key(my_servise_token)\n",
    "set_my_rules('кот')\n",
    "listen_stream()"
   ]
  }
 ],
 "metadata": {
  "kernelspec": {
   "display_name": "Python 3",
   "language": "python",
   "name": "python3"
  },
  "language_info": {
   "codemirror_mode": {
    "name": "ipython",
    "version": 3
   },
   "file_extension": ".py",
   "mimetype": "text/x-python",
   "name": "python",
   "nbconvert_exporter": "python",
   "pygments_lexer": "ipython3",
   "version": "3.7.5"
  }
 },
 "nbformat": 4,
 "nbformat_minor": 2
}
